{
  "nbformat": 4,
  "nbformat_minor": 0,
  "metadata": {
    "colab": {
      "provenance": []
    },
    "kernelspec": {
      "name": "python3",
      "display_name": "Python 3"
    },
    "language_info": {
      "name": "python"
    }
  },
  "cells": [
    {
      "cell_type": "markdown",
      "source": [
        "#**Chapter08. 텍스트 분석**\n",
        "\n",
        "**[NLP이냐 텍스트 분석이냐?]**\n",
        "\n",
        "머신러닝이 보편화되면서 NLP와 텍스트 분석을 구분하는 것이 큰 의미는 없어짐.\n",
        "\n",
        "NLP는 머신이 머신이 인간의 언어를 이해하고 해석.\n",
        "\n",
        "텍스트 마이닝이라고 불리는 텍스트 분석은 비정형 텍스트에서 의미 있는 정보를 추출하는 것에 중점을 둠.\n",
        "\n",
        "NLP는 텍스트 분석을 향상하게 하는 기반 기술. 텍스트 분석은 머신러닝, 언어 이해, 통계 등을 활용해 모델을 수립하고 정보를 추출해 비즈니스 인텔리전스나 예측 분석등의 분석 작업을 주로 수행.\n",
        "\n",
        "    - 텍스트 분류 : 문서가 특정 분류 또는 카테고리에 속하는 것을 예측하는 기법을 통칭.\n",
        "    - 감성 분석 : 텍스트에서 나타나는 감정/판단/믿음/의견/기분 등 주관적인 요소를 분석하는 기법을 총칭.\n",
        "    - 텍스트 요약 : 텍스트 내에서 중요한 주제나 중심 사상을 추출하는 기법.\n",
        "    - 텍스트 군집화와 유사도 측정 : 비슷한 유형의 문서에 대해 군집화를 수행하는 기법."
      ],
      "metadata": {
        "id": "9EbgS_zB7L5p"
      }
    },
    {
      "cell_type": "markdown",
      "source": [
        "##**01. 텍스트 분석 이해**\n",
        "\n",
        "텍스트 분석은 비정형 데이터인 텍스트를 분석하는 것. 머신러닝 알고리즘은 숫자형의 피처 기반 데이터만 입력받을 수 있기 때문에 비정형 데이터를 어떻게 피처 형태로 추출하고 추출된 피처에 의미 있는 값을 부여하는 가는 매우 중요한 요소.\n",
        "\n",
        "텍스트를 피처 벡터화해서 변환하는 방법에는 BOW와 Word2Vec방법이 있음."
      ],
      "metadata": {
        "id": "yahckwDnCqha"
      }
    },
    {
      "cell_type": "markdown",
      "source": [
        "**[텍스트 분석 수행 프로세스]**\n",
        "\n",
        "    - 텍스트 사전 준비 작업 (텍스트 전처리)\n",
        "    - 피처 벡터화/추출\n",
        "    - ML 모델 수립 및 학습/예측/평가\n",
        "\n",
        "**[파이썬 기반의 NLP, 텍스트 분석 패키지]**\n",
        "\n",
        ": NLTK, gensim, spaCy\n"
      ],
      "metadata": {
        "id": "lW-oN-3vCpgV"
      }
    },
    {
      "cell_type": "markdown",
      "source": [
        "##**02. 텍스트 사전 준비 작업(텍스트 전처리) - 텍스트 정규화**\n",
        "\n",
        "텍스트를 머신러닝 알고리즘이나 NLP 애플리케이션에 입력 데이터로 사용하기 위해 클렌징, 정제, 토큰화, 어근화 등의 다양한 텍스트 데이터의 사전 작업을 수행하는 것을 의미.\n",
        "\n",
        "**[클렌징]**\n",
        ": 텍스트에서 분서에 방해가 되는 불필요한 문자, 기호 등을 사전에 제거하는 작업.\n",
        "\n",
        "**[텍스트 토큰화]**\n",
        ": 문서에서 문장을 분리하는 문장 토큰화와 문장에서 단어를 토큰으로 분리하는 단어 토큰화로 나눌 수 있음.\n",
        "\n",
        "    - 문장 토큰화 : 문장의 마침표, 개행 문자 등 문장의 마지막을 뜻하는 기호에 따라 분리."
      ],
      "metadata": {
        "id": "fTffd9wfNbSg"
      }
    },
    {
      "cell_type": "code",
      "source": [
        "#문장 토큰화\n",
        "from nltk import sent_tokenize\n",
        "import nltk\n",
        "nltk.download('punkt')\n",
        "\n",
        "text_sample =  'The Matrix is everywhere its all around us, here even in this room. \\\n",
        "You can see it out your window or on your television. \\\n",
        "You feel it when you go to work, or go to church or pay your taxes.'\n",
        "sentences = sent_tokenize(text = text_sample)\n",
        "\n",
        "print(type(sentences), len(sentences))\n",
        "print(sentences)"
      ],
      "metadata": {
        "colab": {
          "base_uri": "https://localhost:8080/"
        },
        "id": "EhxXQRo-Co7P",
        "outputId": "a81ec670-1386-4f97-a2ea-718316a2f51d"
      },
      "execution_count": 2,
      "outputs": [
        {
          "output_type": "stream",
          "name": "stderr",
          "text": [
            "[nltk_data] Downloading package punkt to /root/nltk_data...\n",
            "[nltk_data]   Unzipping tokenizers/punkt.zip.\n"
          ]
        },
        {
          "output_type": "stream",
          "name": "stdout",
          "text": [
            "<class 'list'> 3\n",
            "['The Matrix is everywhere its all around us, here even in this room.', 'You can see it out your window or on your television.', 'You feel it when you go to work, or go to church or pay your taxes.']\n"
          ]
        }
      ]
    },
    {
      "cell_type": "markdown",
      "source": [
        "    - 단어토큰화 : 문장을 단어로 토큰화하는 것. 정규 표현식을 이용해 다양한 유형으로 토큰화하는 것."
      ],
      "metadata": {
        "id": "0mATSxM4PFzH"
      }
    },
    {
      "cell_type": "code",
      "execution_count": 3,
      "metadata": {
        "colab": {
          "base_uri": "https://localhost:8080/"
        },
        "id": "L3q4HxPD6gEf",
        "outputId": "c52e26a4-8459-4809-f902-d8d30723fac3"
      },
      "outputs": [
        {
          "output_type": "stream",
          "name": "stdout",
          "text": [
            "<class 'list'> 15\n",
            "['The', 'Matrix', 'is', 'everywhere', 'its', 'all', 'around', 'us', ',', 'here', 'even', 'in', 'this', 'room', '.']\n"
          ]
        }
      ],
      "source": [
        "from nltk import word_tokenize\n",
        "\n",
        "sentences = \"The Matrix is everywhere its all around us, here even in this room.\"\n",
        "words = word_tokenize(sentences)\n",
        "print(type(words), len(words))\n",
        "print(words)"
      ]
    },
    {
      "cell_type": "code",
      "source": [
        "from nltk import word_tokenize, sent_tokenize\n",
        "\n",
        "def tokenize_text(text):\n",
        "    sentences = sent_tokenize(text)\n",
        "    word_tokens = [word_tokenize(sentence) for sentence in sentences]\n",
        "    return word_tokens\n",
        "\n",
        "word_tokens = tokenize_text(text_sample)\n",
        "print(type(word_tokens), len(word_tokens))\n",
        "print(word_tokens)"
      ],
      "metadata": {
        "colab": {
          "base_uri": "https://localhost:8080/"
        },
        "id": "hMQmOQOjPa37",
        "outputId": "aadee205-addb-4bc5-e79f-a07748179e0c"
      },
      "execution_count": 4,
      "outputs": [
        {
          "output_type": "stream",
          "name": "stdout",
          "text": [
            "<class 'list'> 3\n",
            "[['The', 'Matrix', 'is', 'everywhere', 'its', 'all', 'around', 'us', ',', 'here', 'even', 'in', 'this', 'room', '.'], ['You', 'can', 'see', 'it', 'out', 'your', 'window', 'or', 'on', 'your', 'television', '.'], ['You', 'feel', 'it', 'when', 'you', 'go', 'to', 'work', ',', 'or', 'go', 'to', 'church', 'or', 'pay', 'your', 'taxes', '.']]\n"
          ]
        }
      ]
    },
    {
      "cell_type": "markdown",
      "source": [
        "**[스톱 워드 제거]** : 스톱워드는 분석에 큰 의미가 없는 단어를 지칭.이 의미 없는 단어를 제거하는 것이 중요한 전처리 작업 중 하나."
      ],
      "metadata": {
        "id": "v25DLjz9QIuB"
      }
    },
    {
      "cell_type": "code",
      "source": [
        "import nltk\n",
        "nltk.download('stopwords')"
      ],
      "metadata": {
        "colab": {
          "base_uri": "https://localhost:8080/"
        },
        "id": "mXH-jASMQHIb",
        "outputId": "29d72e2f-a0a4-4b0b-9928-7363379093ba"
      },
      "execution_count": 5,
      "outputs": [
        {
          "output_type": "stream",
          "name": "stderr",
          "text": [
            "[nltk_data] Downloading package stopwords to /root/nltk_data...\n",
            "[nltk_data]   Unzipping corpora/stopwords.zip.\n"
          ]
        },
        {
          "output_type": "execute_result",
          "data": {
            "text/plain": [
              "True"
            ]
          },
          "metadata": {},
          "execution_count": 5
        }
      ]
    },
    {
      "cell_type": "code",
      "source": [
        "print('영어 stop words 개수:', len(nltk.corpus.stopwords.words('english')))\n",
        "print(nltk.corpus.stopwords.words('english')[:20])"
      ],
      "metadata": {
        "colab": {
          "base_uri": "https://localhost:8080/"
        },
        "id": "p2_WMEZrQZX_",
        "outputId": "7bd08431-1f3c-447c-f959-5d78ba9bc228"
      },
      "execution_count": 7,
      "outputs": [
        {
          "output_type": "stream",
          "name": "stdout",
          "text": [
            "영어 stop words 개수: 179\n",
            "['i', 'me', 'my', 'myself', 'we', 'our', 'ours', 'ourselves', 'you', \"you're\", \"you've\", \"you'll\", \"you'd\", 'your', 'yours', 'yourself', 'yourselves', 'he', 'him', 'his']\n"
          ]
        }
      ]
    },
    {
      "cell_type": "code",
      "source": [
        "import nltk\n",
        "\n",
        "stopwords = nltk.corpus.stopwords.words('english')\n",
        "all_tokens = []\n",
        "\n",
        "for sentence in word_tokens:\n",
        "    filtered_words=[]\n",
        "    for word in sentence:\n",
        "        word = word.lower()\n",
        "        if word not in stopwords:\n",
        "            filtered_words.append(word)\n",
        "    all_tokens.append(filtered_words)\n",
        "\n",
        "print(all_tokens)"
      ],
      "metadata": {
        "colab": {
          "base_uri": "https://localhost:8080/"
        },
        "id": "gLWgv4HsQgIz",
        "outputId": "15510db9-518f-462c-b219-0ea7c9594a80"
      },
      "execution_count": 9,
      "outputs": [
        {
          "output_type": "stream",
          "name": "stdout",
          "text": [
            "[['matrix', 'everywhere', 'around', 'us', ',', 'even', 'room', '.'], ['see', 'window', 'television', '.'], ['feel', 'go', 'work', ',', 'go', 'church', 'pay', 'taxes', '.']]\n"
          ]
        }
      ]
    },
    {
      "cell_type": "markdown",
      "source": [
        "**[Stemming과 Lemmatization]**\n",
        ": 문법적 또는 의미적으로 변화하는 단어의 원형을 찾는 것."
      ],
      "metadata": {
        "id": "j0x43rLTRZ6N"
      }
    },
    {
      "cell_type": "code",
      "source": [
        "from nltk.stem import LancasterStemmer\n",
        "stemmer = LancasterStemmer()\n",
        "\n",
        "print(stemmer.stem('working'), stemmer.stem('works'), stemmer.stem('worked'))\n",
        "print(stemmer.stem('amusing'), stemmer.stem('amuses'), stemmer.stem('amused'))\n",
        "print(stemmer.stem('happier'), stemmer.stem('happiest'))\n",
        "print(stemmer.stem('fancier'), stemmer.stem('fanciest'))"
      ],
      "metadata": {
        "colab": {
          "base_uri": "https://localhost:8080/"
        },
        "id": "90VYNl1CRVx3",
        "outputId": "863505c3-aac3-4f72-f051-c0806efe9a89"
      },
      "execution_count": 11,
      "outputs": [
        {
          "output_type": "stream",
          "name": "stdout",
          "text": [
            "work work work\n",
            "amus amus amus\n",
            "happy happiest\n",
            "fant fanciest\n"
          ]
        }
      ]
    },
    {
      "cell_type": "code",
      "source": [
        "from nltk.stem import WordNetLemmatizer\n",
        "import nltk\n",
        "nltk.download('wordnet')\n",
        "\n",
        "lemma = WordNetLemmatizer()\n",
        "print(lemma.lemmatize('amusing','v'), lemma.lemmatize('amuses','v'), lemma.lemmatize('amused','v'))\n",
        "print(lemma.lemmatize('happier','a'), lemma.lemmatize('happiest','a'))\n",
        "print(lemma.lemmatize('fancier','a'), lemma.lemmatize('fanciest','a'))"
      ],
      "metadata": {
        "colab": {
          "base_uri": "https://localhost:8080/"
        },
        "id": "Huv0E4ZDSKxx",
        "outputId": "07d9b64f-460b-401d-d907-a5bd3a7285bc"
      },
      "execution_count": 12,
      "outputs": [
        {
          "output_type": "stream",
          "name": "stderr",
          "text": [
            "[nltk_data] Downloading package wordnet to /root/nltk_data...\n"
          ]
        },
        {
          "output_type": "stream",
          "name": "stdout",
          "text": [
            "amuse amuse amuse\n",
            "happy happy\n",
            "fancy fancy\n"
          ]
        }
      ]
    },
    {
      "cell_type": "markdown",
      "source": [
        "##**03. Bag of Words - BOW**\n",
        "\n",
        "문서가 가지는 모든 단어를 문맥이나 순서를 무시하고 일괄적으로 단어에 대해 빈도 값을 부여해 피처 값을 추출하는 모델.\n",
        "\n",
        "**[BOW 피처 벡터화]**\n",
        "\n",
        "BOW 모델에서 피처 벡터화를 수행한다는 것은 모든 문서에서 모든 단어를 칼럼 형태로 나열하고 각 문서에서 해당 단어의 횟수나 정규화된 빈도를 값으로 부여하는 데이터 세트 모델로 변경하는 것.\n",
        "\n",
        "**[사이킷런의 Count 및 TF-IDF 벡터화 구현]**\n",
        "\n",
        "CountVectorizer 클래스는 카운트 기반의 벡터화를 구현한 클래스. 이는 단지 피처 벡터화만을 수행하지는 않으며 소문자 일괄 변환, 토큰드 필터링 등 텍스트의 전처리도 함께 수행.\n",
        "\n",
        "**[BOW 벡터화를 위한 희소 행렬]**\n",
        "\n",
        "사이킷런의 CountVectorizer/TfidfVectorizer을 이용해 텍스트를 피처 단위로 벡터화해 변환하고 CSR 형태의 희소행렬을 반환.\n",
        "\n",
        "**[희소행렬 - COO 형식]**\n",
        "\n",
        "0이 아닌 데이터만 별도의 데이터 배열에 저장. 그 데이터가 가리키는 행과 열의 위치를 별도의 배열로 저장하는 방식."
      ],
      "metadata": {
        "id": "T6sXAgaMS5Xb"
      }
    },
    {
      "cell_type": "code",
      "source": [
        "import numpy as np\n",
        "\n",
        "dense = np.array([[3,0,1],[0,2,0]])"
      ],
      "metadata": {
        "id": "GQfXMyDxUw-t"
      },
      "execution_count": 14,
      "outputs": []
    },
    {
      "cell_type": "code",
      "source": [
        "from scipy import sparse\n",
        "\n",
        "data = np.array([3,1,2])\n",
        "\n",
        "row_pos = np.array([0,0,1])\n",
        "col_pos = np.array([0,2,1])\n",
        "\n",
        "sparse_coo = sparse.coo_matrix((data, (row_pos, col_pos)))"
      ],
      "metadata": {
        "id": "7U6ZnPUWU3xO"
      },
      "execution_count": 15,
      "outputs": []
    },
    {
      "cell_type": "code",
      "source": [
        "sparse_coo.toarray()"
      ],
      "metadata": {
        "colab": {
          "base_uri": "https://localhost:8080/"
        },
        "id": "wZeZqh6SVOso",
        "outputId": "b872f6bb-6d6f-44ef-9f40-4467ec283147"
      },
      "execution_count": 16,
      "outputs": [
        {
          "output_type": "execute_result",
          "data": {
            "text/plain": [
              "array([[3, 0, 1],\n",
              "       [0, 2, 0]])"
            ]
          },
          "metadata": {},
          "execution_count": 16
        }
      ]
    },
    {
      "cell_type": "markdown",
      "source": [
        "**[희소 행렬 - CSR 형식]**\n",
        "\n",
        "COO 형식이 행과 열의 위치를 나타내기 위해서 반복적 위치 데이터를 사용해야 하는 문제점을 해결한 방식."
      ],
      "metadata": {
        "id": "TTxGAa9LVRtX"
      }
    },
    {
      "cell_type": "code",
      "source": [
        "from scipy import sparse\n",
        "\n",
        "dense = np.array([[0, 0, 1, 0, 0, 5],\n",
        "                [1, 4, 0, 3, 2, 5],\n",
        "                [0, 6, 0, 3, 0, 0],\n",
        "                [2, 0, 0, 0, 0, 0],\n",
        "                [0, 0, 0, 7, 0,8],\n",
        "                [1, 0, 0, 0, 0, 0]])\n",
        "\n",
        "data2 = np.array([1,5,1,4,3,2,5,6,3,2,7,8,1])\n",
        "\n",
        "row_pos = np.array([0,0,1,1,1,1,1,2,2,3,4,4,5])\n",
        "col_pos = np.array([2,5,0,1,3,4,5,1,3,0,3,5,0])\n",
        "\n",
        "sparse_coo = sparse.coo_matrix((data2,(row_pos, col_pos)))\n",
        "\n",
        "row_pos_ind = np.array([0,2,7,9,10,12,13])\n",
        "\n",
        "sparse_csr = sparse.csr_matrix((data2, col_pos, row_pos_ind))\n",
        "\n",
        "print(sparse_coo.toarray())\n",
        "print(sparse_csr.toarray())"
      ],
      "metadata": {
        "colab": {
          "base_uri": "https://localhost:8080/"
        },
        "id": "5bRXjL9aVQ0J",
        "outputId": "a9005e09-2499-4b25-c24a-010c0b015426"
      },
      "execution_count": 19,
      "outputs": [
        {
          "output_type": "stream",
          "name": "stdout",
          "text": [
            "[[0 0 1 0 0 5]\n",
            " [1 4 0 3 2 5]\n",
            " [0 6 0 3 0 0]\n",
            " [2 0 0 0 0 0]\n",
            " [0 0 0 7 0 8]\n",
            " [1 0 0 0 0 0]]\n",
            "[[0 0 1 0 0 5]\n",
            " [1 4 0 3 2 5]\n",
            " [0 6 0 3 0 0]\n",
            " [2 0 0 0 0 0]\n",
            " [0 0 0 7 0 8]\n",
            " [1 0 0 0 0 0]]\n"
          ]
        }
      ]
    },
    {
      "cell_type": "code",
      "source": [],
      "metadata": {
        "id": "smQkKNNfVshQ"
      },
      "execution_count": null,
      "outputs": []
    }
  ]
}